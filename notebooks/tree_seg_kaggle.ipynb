{
  "cells": [
    {
      "cell_type": "markdown",
      "metadata": {},
      "source": [
        "# Tree Segmentation with DINOv2\n",
        "This notebook performs unsupervised tree segmentation using DINOv2 Vision Transformers."
      ]
    },
    {
      "cell_type": "code",
      "execution_count": null,
      "metadata": {},
      "outputs": [],
      "source": [
        "# Install dependencies\n",
        "!pip install timm\n",
        "!pip install xformers --index-url https://download.pytorch.org/whl/cu124"
      ]
    },
    {
      "cell_type": "code",
      "execution_count": null,
      "metadata": {},
      "outputs": [],
      "source": [
        "# Clone the repository\n",
        "!git clone https://github.com/luccahuguet/tree-seg-unsuper /kaggle/working/project\n",
        "%cd /kaggle/working/project"
      ]
    },
    {
      "cell_type": "code",
      "execution_count": null,
      "metadata": {},
      "outputs": [],
      "source": [
        "# Upload your images here\n",
        "# You can upload images to /kaggle/input/your-dataset-name/\n",
        "# Then update the config below"
      ]
    },
    {
      "cell_type": "code",
      "execution_count": null,
      "metadata": {},
      "outputs": [],
      "source": [
        "# Configuration\n",
        "config = {\n",
        "    \"input_dir\": \"/kaggle/input/your-dataset-name\",  # Update this path\n",
        "    \"output_dir\": \"/kaggle/working/output\",\n",
        "    \"n_clusters\": 6,\n",
        "    \"overlay_ratio\": 4,\n",
        "    \"stride\": 4,\n",
        "    \"model_name\": \"dinov2_vits14\",\n",
        "    \"filename\": None,  # Set to specific filename or None for all\n",
        "    \"version\": \"v1.5\"\n",
        "}\n",
        "\n",
        "print(\"Configuration:\")\n",
        "for key, value in config.items():\n",
        "    print(f\"  {key}: {value}\")"
      ]
    },
    {
      "cell_type": "code",
      "execution_count": null,
      "metadata": {},
      "outputs": [],
      "source": [
        "# Import the tree segmentation code\n",
        "import sys\n",
        "sys.path.append('/kaggle/working/project/src')\n",
        "\n",
        "# Copy the main functions from tree_seg_local.py\n",
        "# (The full code will be pasted here)"
      ]
    },
    {
      "cell_type": "code",
      "execution_count": null,
      "metadata": {},
      "outputs": [],
      "source": [
        "# Run the segmentation\n",
        "tree_seg(**config)\n",
        "print(\"\\nSegmentation completed! Check the output directory.\")"
      ]
    },
    {
      "cell_type": "code",
      "execution_count": null,
      "metadata": {},
      "outputs": [],
      "source": [
        "# Display results\n",
        "import matplotlib.pyplot as plt\n",
        "from IPython.display import Image, display\n",
        "\n",
        "# List output files\n",
        "import os\n",
        "output_files = os.listdir(config['output_dir'])\n",
        "print(\"Generated files:\")\n",
        "for file in output_files:\n",
        "    print(f\"  {file}\")\n",
        "\n",
        "# Display a sample result\n",
        "if output_files:\n",
        "    sample_file = os.path.join(config['output_dir'], output_files[0])\n",
        "    if sample_file.endswith('.png'):\n",
        "        display(Image(filename=sample_file))"
      ]
    }
  ],
  "metadata": {
    "kernelspec": {
      "display_name": "Python 3",
      "language": "python",
      "name": "python3"
    },
    "language_info": {
      "codemirror_mode": {
        "name": "ipython",
        "version": 3
      },
      "file_extension": ".py",
      "mimetype": "text/x-python",
      "name": "python",
      "nbconvert_exporter": "python",
      "pygments_lexer": "ipython3",
      "version": "3.10.0"
    }
  },
  "nbformat": 4,
  "nbformat_minor": 4
}