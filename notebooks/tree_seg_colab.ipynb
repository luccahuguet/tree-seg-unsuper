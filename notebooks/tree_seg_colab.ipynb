{
  "cells": [
    {
      "cell_type": "markdown",
      "metadata": {},
      "source": [
        "# Tree Segmentation with DINOv2 (Google Colab)\n",
        "This notebook performs unsupervised tree segmentation using DINOv2 Vision Transformers."
      ]
    },
    {
      "cell_type": "code",
      "execution_count": null,
      "metadata": {},
      "outputs": [],
      "source": [
        "# Mount Google Drive (optional)\n",
        "from google.colab import drive\n",
        "drive.mount('/content/drive')"
      ]
    },
    {
      "cell_type": "code",
      "execution_count": null,
      "metadata": {},
      "outputs": [],
      "source": [
        "# Install dependencies\n",
        "!pip install timm\n",
        "!pip install xformers --index-url https://download.pytorch.org/whl/cu124"
      ]
    },
    {
      "cell_type": "code",
      "execution_count": null,
      "metadata": {},
      "outputs": [],
      "source": [
        "# Clone the repository\n",
        "!git clone https://github.com/luccahuguet/tree-seg-unsuper /content/project\n",
        "%cd /content/project"
      ]
    },
    {
      "cell_type": "code",
      "execution_count": null,
      "metadata": {},
      "outputs": [],
      "source": [
        "# Upload your images\n",
        "from google.colab import files\n",
        "uploaded = files.upload()\n",
        "\n",
        "# Create input directory\n",
        "!mkdir -p input\n",
        "!mv *.jpg *.png *.jpeg input/ 2>/dev/null || true"
      ]
    },
    {
      "cell_type": "code",
      "execution_count": null,
      "metadata": {},
      "outputs": [],
      "source": [
        "# Configuration\n",
        "config = {\n",
        "    \"input_dir\": \"/content/project/input\",\n",
        "    \"output_dir\": \"/content/project/output\",\n",
        "    \"n_clusters\": 6,\n",
        "    \"overlay_ratio\": 4,\n",
        "    \"stride\": 4,\n",
        "    \"model_name\": \"dinov2_vits14\",\n",
        "    \"filename\": None,\n",
        "    \"version\": \"v1.5\"\n",
        "}\n",
        "\n",
        "print(\"Configuration:\")\n",
        "for key, value in config.items():\n",
        "    print(f\"  {key}: {value}\")"
      ]
    },
    {
      "cell_type": "code",
      "execution_count": null,
      "metadata": {},
      "outputs": [],
      "source": [
        "# Import and run the segmentation\n",
        "import sys\n",
        "sys.path.append('/content/project/src')\n",
        "\n",
        "# The tree_seg_local.py code will be pasted here\n",
        "# ...\n",
        "\n",
        "# Run segmentation\n",
        "tree_seg(**config)"
      ]
    },
    {
      "cell_type": "code",
      "execution_count": null,
      "metadata": {},
      "outputs": [],
      "source": [
        "# Download results\n",
        "!zip -r results.zip output/\n",
        "files.download('results.zip')"
      ]
    }
  ],
  "metadata": {
    "colab": {
      "name": "Tree Segmentation with DINOv2",
      "private_outputs": true
    },
    "kernelspec": {
      "display_name": "Python 3",
      "language": "python",
      "name": "python3"
    }
  },
  "nbformat": 4,
  "nbformat_minor": 0
}